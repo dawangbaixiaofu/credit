{
 "cells": [
  {
   "cell_type": "code",
   "execution_count": 1,
   "metadata": {},
   "outputs": [
    {
     "name": "stdout",
     "output_type": "stream",
     "text": [
      "Looking in indexes: https://pypi.tuna.tsinghua.edu.cn/simple\n",
      "Collecting kaggle\n",
      "  Downloading https://pypi.tuna.tsinghua.edu.cn/packages/40/71/c465410f09c895134ef7eb9933597bd48b900790658c47ada1a83d95f870/kaggle-1.6.4.tar.gz (84 kB)\n",
      "     ---------------------------------------- 84.6/84.6 kB 1.2 MB/s eta 0:00:00\n",
      "  Preparing metadata (setup.py): started\n",
      "  Preparing metadata (setup.py): finished with status 'done'\n",
      "Requirement already satisfied: six>=1.10 in c:\\users\\hoover\\anaconda3\\envs\\llama2\\lib\\site-packages (from kaggle) (1.16.0)\n",
      "Requirement already satisfied: certifi in c:\\users\\hoover\\anaconda3\\envs\\llama2\\lib\\site-packages (from kaggle) (2023.7.22)\n",
      "Requirement already satisfied: python-dateutil in c:\\users\\hoover\\anaconda3\\envs\\llama2\\lib\\site-packages (from kaggle) (2.8.2)\n",
      "Requirement already satisfied: requests in c:\\users\\hoover\\anaconda3\\envs\\llama2\\lib\\site-packages (from kaggle) (2.28.1)\n",
      "Requirement already satisfied: tqdm in c:\\users\\hoover\\anaconda3\\envs\\llama2\\lib\\site-packages (from kaggle) (4.64.1)\n",
      "Requirement already satisfied: python-slugify in c:\\users\\hoover\\anaconda3\\envs\\llama2\\lib\\site-packages (from kaggle) (5.0.2)\n",
      "Requirement already satisfied: urllib3 in c:\\users\\hoover\\anaconda3\\envs\\llama2\\lib\\site-packages (from kaggle) (1.26.14)\n",
      "Requirement already satisfied: bleach in c:\\users\\hoover\\anaconda3\\envs\\llama2\\lib\\site-packages (from kaggle) (4.1.0)\n",
      "Requirement already satisfied: packaging in c:\\users\\hoover\\anaconda3\\envs\\llama2\\lib\\site-packages (from bleach->kaggle) (22.0)\n",
      "Requirement already satisfied: webencodings in c:\\users\\hoover\\anaconda3\\envs\\llama2\\lib\\site-packages (from bleach->kaggle) (0.5.1)\n",
      "Requirement already satisfied: text-unidecode>=1.3 in c:\\users\\hoover\\anaconda3\\envs\\llama2\\lib\\site-packages (from python-slugify->kaggle) (1.3)\n",
      "Requirement already satisfied: idna<4,>=2.5 in c:\\users\\hoover\\anaconda3\\envs\\llama2\\lib\\site-packages (from requests->kaggle) (3.4)\n",
      "Requirement already satisfied: charset-normalizer<3,>=2 in c:\\users\\hoover\\anaconda3\\envs\\llama2\\lib\\site-packages (from requests->kaggle) (2.0.4)\n",
      "Requirement already satisfied: colorama in c:\\users\\hoover\\anaconda3\\envs\\llama2\\lib\\site-packages (from tqdm->kaggle) (0.4.6)\n",
      "Building wheels for collected packages: kaggle\n",
      "  Building wheel for kaggle (setup.py): started\n",
      "  Building wheel for kaggle (setup.py): finished with status 'done'\n",
      "  Created wheel for kaggle: filename=kaggle-1.6.4-py3-none-any.whl size=111939 sha256=b11692d0302d7cac33983046f47ea11a3365399f5c4de1b9beab5596c824b184\n",
      "  Stored in directory: c:\\users\\hoover\\appdata\\local\\pip\\cache\\wheels\\02\\39\\08\\16b41304045ad580eabad7d2b6364262c8df9c87a28c81288b\n",
      "Successfully built kaggle\n",
      "Installing collected packages: kaggle\n",
      "Successfully installed kaggle-1.6.4\n"
     ]
    }
   ],
   "source": [
    "!pip install kaggle"
   ]
  },
  {
   "cell_type": "code",
   "execution_count": 1,
   "metadata": {},
   "outputs": [
    {
     "name": "stderr",
     "output_type": "stream",
     "text": [
      "2024-02-03 11:42:20,409 WARNING Retrying (Retry(total=1, connect=None, read=None, redirect=None, status=None)) after connection broken by 'ProtocolError('Connection aborted.', ConnectionResetError(10054, '远程主机强迫关闭了一个现有的连接。', None, 10054, None))': /kaggle-competitions-data/kaggle-v2/2551/29345/bundle/archive.zip?GoogleAccessId=web-data@kaggle-161607.iam.gserviceaccount.com&Expires=1707190940&Signature=a3ER%2FThyNz8yrwMY4A4heI8a%2BmsybLSBZnDOQtK9zIEcJ4v7NZSn89WQkXPWQhaPEt351XHGooJvR8ggPI52ywJyhDpcl2prueJDrQ606D9floPlSyybp13AaYLLNSD900S7oK5kFYOG%2B1Yk2IWdRWBtdEVP5LR%2FfCCYBjEfkn9xmhA3M11tSo9IzB6B2VDAW%2Bckmrv2h4syY0bcLr%2FVdco6dRzGuTTCJAU0pijBvE9X29kxNrzzXoVGtHht3JLfQw9aDzEh1bMYNrCR2GYRH%2FUg3J95xtx0ieWuQ2CPrpZmFgRbNP0xWoj0v8FroYyc04PK9%2Bkwyt3yti2XFHwg6A%3D%3D&response-content-disposition=attachment%3B+filename%3DGiveMeSomeCredit.zip\n",
      "2024-02-03 11:42:20,508 WARNING Retrying (Retry(total=0, connect=None, read=None, redirect=None, status=None)) after connection broken by 'ProtocolError('Connection aborted.', ConnectionResetError(10054, '远程主机强迫关闭了一个现有的连接。', None, 10054, None))': /kaggle-competitions-data/kaggle-v2/2551/29345/bundle/archive.zip?GoogleAccessId=web-data@kaggle-161607.iam.gserviceaccount.com&Expires=1707190940&Signature=a3ER%2FThyNz8yrwMY4A4heI8a%2BmsybLSBZnDOQtK9zIEcJ4v7NZSn89WQkXPWQhaPEt351XHGooJvR8ggPI52ywJyhDpcl2prueJDrQ606D9floPlSyybp13AaYLLNSD900S7oK5kFYOG%2B1Yk2IWdRWBtdEVP5LR%2FfCCYBjEfkn9xmhA3M11tSo9IzB6B2VDAW%2Bckmrv2h4syY0bcLr%2FVdco6dRzGuTTCJAU0pijBvE9X29kxNrzzXoVGtHht3JLfQw9aDzEh1bMYNrCR2GYRH%2FUg3J95xtx0ieWuQ2CPrpZmFgRbNP0xWoj0v8FroYyc04PK9%2Bkwyt3yti2XFHwg6A%3D%3D&response-content-disposition=attachment%3B+filename%3DGiveMeSomeCredit.zip\n",
      "Traceback (most recent call last):\n",
      "  File \"C:\\Users\\hoover\\anaconda3\\envs\\llama2\\lib\\site-packages\\urllib3\\connectionpool.py\", line 703, in urlopen\n",
      "    httplib_response = self._make_request(\n",
      "  File \"C:\\Users\\hoover\\anaconda3\\envs\\llama2\\lib\\site-packages\\urllib3\\connectionpool.py\", line 386, in _make_request\n",
      "    self._validate_conn(conn)\n",
      "  File \"C:\\Users\\hoover\\anaconda3\\envs\\llama2\\lib\\site-packages\\urllib3\\connectionpool.py\", line 1042, in _validate_conn\n",
      "    conn.connect()\n",
      "  File \"C:\\Users\\hoover\\anaconda3\\envs\\llama2\\lib\\site-packages\\urllib3\\connection.py\", line 414, in connect\n",
      "    self.sock = ssl_wrap_socket(\n",
      "  File \"C:\\Users\\hoover\\anaconda3\\envs\\llama2\\lib\\site-packages\\urllib3\\util\\ssl_.py\", line 449, in ssl_wrap_socket\n",
      "    ssl_sock = _ssl_wrap_socket_impl(\n",
      "  File \"C:\\Users\\hoover\\anaconda3\\envs\\llama2\\lib\\site-packages\\urllib3\\util\\ssl_.py\", line 493, in _ssl_wrap_socket_impl\n",
      "    return ssl_context.wrap_socket(sock, server_hostname=server_hostname)\n",
      "  File \"C:\\Users\\hoover\\anaconda3\\envs\\llama2\\lib\\ssl.py\", line 513, in wrap_socket\n",
      "    return self.sslsocket_class._create(\n",
      "  File \"C:\\Users\\hoover\\anaconda3\\envs\\llama2\\lib\\ssl.py\", line 1071, in _create\n",
      "    self.do_handshake()\n",
      "  File \"C:\\Users\\hoover\\anaconda3\\envs\\llama2\\lib\\ssl.py\", line 1342, in do_handshake\n",
      "    self._sslobj.do_handshake()\n",
      "ConnectionResetError: [WinError 10054] 远程主机强迫关闭了一个现有的连接。\n",
      "\n",
      "During handling of the above exception, another exception occurred:\n",
      "\n",
      "Traceback (most recent call last):\n",
      "  File \"C:\\Users\\hoover\\anaconda3\\envs\\llama2\\lib\\runpy.py\", line 196, in _run_module_as_main\n",
      "    return _run_code(code, main_globals, None,\n",
      "  File \"C:\\Users\\hoover\\anaconda3\\envs\\llama2\\lib\\runpy.py\", line 86, in _run_code\n",
      "    exec(code, run_globals)\n",
      "  File \"C:\\Users\\hoover\\anaconda3\\envs\\llama2\\Scripts\\kaggle.exe\\__main__.py\", line 7, in <module>\n",
      "  File \"C:\\Users\\hoover\\anaconda3\\envs\\llama2\\lib\\site-packages\\kaggle\\cli.py\", line 70, in main\n",
      "    out = args.func(**command_args)\n",
      "  File \"C:\\Users\\hoover\\anaconda3\\envs\\llama2\\lib\\site-packages\\kaggle\\api\\kaggle_api_extended.py\", line 997, in competition_download_cli\n",
      "    self.competition_download_files(competition, path, force,\n",
      "  File \"C:\\Users\\hoover\\anaconda3\\envs\\llama2\\lib\\site-packages\\kaggle\\api\\kaggle_api_extended.py\", line 958, in competition_download_files\n",
      "    self.competitions_data_download_files_with_http_info(\n",
      "  File \"C:\\Users\\hoover\\anaconda3\\envs\\llama2\\lib\\site-packages\\kaggle\\api\\kaggle_api.py\", line 400, in competitions_data_download_files_with_http_info\n",
      "    return self.api_client.call_api(\n",
      "  File \"C:\\Users\\hoover\\anaconda3\\envs\\llama2\\lib\\site-packages\\kaggle\\api_client.py\", line 329, in call_api\n",
      "    return self.__call_api(resource_path, method,\n",
      "  File \"C:\\Users\\hoover\\anaconda3\\envs\\llama2\\lib\\site-packages\\kaggle\\api_client.py\", line 161, in __call_api\n",
      "    response_data = self.request(\n",
      "  File \"C:\\Users\\hoover\\anaconda3\\envs\\llama2\\lib\\site-packages\\kaggle\\api_client.py\", line 351, in request\n",
      "    return self.rest_client.GET(url,\n",
      "  File \"C:\\Users\\hoover\\anaconda3\\envs\\llama2\\lib\\site-packages\\kaggle\\rest.py\", line 247, in GET\n",
      "    return self.request(\"GET\", url,\n",
      "  File \"C:\\Users\\hoover\\anaconda3\\envs\\llama2\\lib\\site-packages\\kaggle\\rest.py\", line 220, in request\n",
      "    r = self.pool_manager.request(method, url,\n",
      "  File \"C:\\Users\\hoover\\anaconda3\\envs\\llama2\\lib\\site-packages\\urllib3\\request.py\", line 74, in request\n",
      "    return self.request_encode_url(\n",
      "  File \"C:\\Users\\hoover\\anaconda3\\envs\\llama2\\lib\\site-packages\\urllib3\\request.py\", line 96, in request_encode_url\n",
      "    return self.urlopen(method, url, **extra_kw)\n",
      "  File \"C:\\Users\\hoover\\anaconda3\\envs\\llama2\\lib\\site-packages\\urllib3\\poolmanager.py\", line 418, in urlopen\n",
      "    return self.urlopen(method, redirect_location, **kw)\n",
      "  File \"C:\\Users\\hoover\\anaconda3\\envs\\llama2\\lib\\site-packages\\urllib3\\poolmanager.py\", line 376, in urlopen\n",
      "    response = conn.urlopen(method, u.request_uri, **kw)\n",
      "  File \"C:\\Users\\hoover\\anaconda3\\envs\\llama2\\lib\\site-packages\\urllib3\\connectionpool.py\", line 815, in urlopen\n",
      "    return self.urlopen(\n",
      "  File \"C:\\Users\\hoover\\anaconda3\\envs\\llama2\\lib\\site-packages\\urllib3\\connectionpool.py\", line 815, in urlopen\n",
      "    return self.urlopen(\n",
      "  File \"C:\\Users\\hoover\\anaconda3\\envs\\llama2\\lib\\site-packages\\urllib3\\connectionpool.py\", line 787, in urlopen\n",
      "    retries = retries.increment(\n",
      "  File \"C:\\Users\\hoover\\anaconda3\\envs\\llama2\\lib\\site-packages\\urllib3\\util\\retry.py\", line 592, in increment\n",
      "    raise MaxRetryError(_pool, url, error or ResponseError(cause))\n",
      "urllib3.exceptions.MaxRetryError: HTTPSConnectionPool(host='storage.googleapis.com', port=443): Max retries exceeded with url: /kaggle-competitions-data/kaggle-v2/2551/29345/bundle/archive.zip?GoogleAccessId=web-data@kaggle-161607.iam.gserviceaccount.com&Expires=1707190940&Signature=a3ER%2FThyNz8yrwMY4A4heI8a%2BmsybLSBZnDOQtK9zIEcJ4v7NZSn89WQkXPWQhaPEt351XHGooJvR8ggPI52ywJyhDpcl2prueJDrQ606D9floPlSyybp13AaYLLNSD900S7oK5kFYOG%2B1Yk2IWdRWBtdEVP5LR%2FfCCYBjEfkn9xmhA3M11tSo9IzB6B2VDAW%2Bckmrv2h4syY0bcLr%2FVdco6dRzGuTTCJAU0pijBvE9X29kxNrzzXoVGtHht3JLfQw9aDzEh1bMYNrCR2GYRH%2FUg3J95xtx0ieWuQ2CPrpZmFgRbNP0xWoj0v8FroYyc04PK9%2Bkwyt3yti2XFHwg6A%3D%3D&response-content-disposition=attachment%3B+filename%3DGiveMeSomeCredit.zip (Caused by ProtocolError('Connection aborted.', ConnectionResetError(10054, '远程主机强迫关闭了一个现有的连接。', None, 10054, None)))\n"
     ]
    }
   ],
   "source": [
    "!kaggle competitions download -c GiveMeSomeCredit"
   ]
  },
  {
   "cell_type": "code",
   "execution_count": 4,
   "metadata": {},
   "outputs": [
    {
     "name": "stdout",
     "output_type": "stream",
     "text": [
      "ref                                                                              deadline             category            reward  teamCount  userHasEntered  \n",
      "-------------------------------------------------------------------------------  -------------------  ---------------  ---------  ---------  --------------  \n",
      "https://www.kaggle.com/competitions/blood-vessel-segmentation                    2024-02-06 23:59:00  Research           $80,000       1117           False  \n",
      "https://www.kaggle.com/competitions/pii-detection-removal-from-educational-data  2024-04-23 23:59:00  Featured           $60,000        632           False  \n",
      "https://www.kaggle.com/competitions/hms-harmful-brain-activity-classification    2024-04-08 23:59:00  Research           $50,000       1042           False  \n",
      "https://www.kaggle.com/competitions/playground-series-s4e2                       2024-02-29 23:59:00  Playground            Swag        450           False  \n",
      "https://www.kaggle.com/competitions/titanic                                      2030-01-01 00:00:00  Getting Started  Knowledge      16014            True  \n",
      "https://www.kaggle.com/competitions/house-prices-advanced-regression-techniques  2030-01-01 00:00:00  Getting Started  Knowledge       3979            True  \n",
      "https://www.kaggle.com/competitions/spaceship-titanic                            2030-01-01 00:00:00  Getting Started  Knowledge       2715           False  \n",
      "https://www.kaggle.com/competitions/digit-recognizer                             2030-01-01 00:00:00  Getting Started  Knowledge       1732           False  \n",
      "https://www.kaggle.com/competitions/nlp-getting-started                          2030-01-01 00:00:00  Getting Started  Knowledge        880           False  \n",
      "https://www.kaggle.com/competitions/connectx                                     2030-01-01 00:00:00  Getting Started  Knowledge        217           False  \n",
      "https://www.kaggle.com/competitions/tpu-getting-started                          2030-06-03 23:59:00  Getting Started  Knowledge        101           False  \n",
      "https://www.kaggle.com/competitions/store-sales-time-series-forecasting          2030-06-30 23:59:00  Getting Started  Knowledge        725           False  \n",
      "https://www.kaggle.com/competitions/gan-getting-started                          2030-07-01 23:59:00  Getting Started  Knowledge         99           False  \n",
      "https://www.kaggle.com/competitions/contradictory-my-dear-watson                 2030-07-01 23:59:00  Getting Started  Knowledge         52           False  \n",
      "https://www.kaggle.com/competitions/optiver-trading-at-the-close                 2024-03-20 23:59:00  Featured          $100,000       4436           False  \n",
      "https://www.kaggle.com/competitions/predict-energy-behavior-of-prosumers         2024-04-30 23:59:00  Featured           $50,000       2731           False  \n"
     ]
    }
   ],
   "source": [
    "!kaggle competitions list"
   ]
  },
  {
   "cell_type": "code",
   "execution_count": 2,
   "metadata": {},
   "outputs": [
    {
     "name": "stderr",
     "output_type": "stream",
     "text": [
      "x Data Dictionary.xls\n",
      "x cs-test.csv\n",
      "x cs-training.csv\n",
      "x sampleEntry.csv\n"
     ]
    }
   ],
   "source": [
    "# 通过手动下载数据集压缩包, v means extract, v means verbose, f means files\n",
    "!tar xvf GiveMeSomeCredit.zip "
   ]
  },
  {
   "cell_type": "code",
   "execution_count": 3,
   "metadata": {},
   "outputs": [
    {
     "name": "stdout",
     "output_type": "stream",
     "text": [
      "tar(bsdtar): manipulate archive files\n",
      "First option must be a mode specifier:\n",
      "  -c Create  -r Add/Replace  -t List  -u Update  -x Extract\n",
      "Common Options:\n",
      "  -b #  Use # 512-byte records per I/O block\n",
      "  -f <filename>  Location of archive (default \\\\.\\tape0)\n",
      "  -v    Verbose\n",
      "  -w    Interactive\n",
      "Create: tar -c [options] [<file> | <dir> | @<archive> | -C <dir> ]\n",
      "  <file>, <dir>  add these items to archive\n",
      "  -z, -j, -J, --lzma  Compress archive with gzip/bzip2/xz/lzma\n",
      "  --format {ustar|pax|cpio|shar}  Select archive format\n",
      "  --exclude <pattern>  Skip files that match pattern\n",
      "  -C <dir>  Change to <dir> before processing remaining files\n",
      "  @<archive>  Add entries from <archive> to output\n",
      "List: tar -t [options] [<patterns>]\n",
      "  <patterns>  If specified, list only entries that match\n",
      "Extract: tar -x [options] [<patterns>]\n",
      "  <patterns>  If specified, extract only entries that match\n",
      "  -k    Keep (don't overwrite) existing files\n",
      "  -m    Don't restore modification times\n",
      "  -O    Write entries to stdout, don't restore to disk\n",
      "  -p    Restore permissions (including ACLs, owner, file flags)\n",
      "bsdtar 3.6.2 - libarchive 3.6.2 zlib/1.2.5.f-ipp liblzma/5.2.5 bz2lib/1.0.8 libzstd/1.5.4 \n"
     ]
    }
   ],
   "source": [
    "!tar --help"
   ]
  },
  {
   "cell_type": "code",
   "execution_count": null,
   "metadata": {},
   "outputs": [],
   "source": []
  }
 ],
 "metadata": {
  "kernelspec": {
   "display_name": "llama2",
   "language": "python",
   "name": "python3"
  },
  "language_info": {
   "codemirror_mode": {
    "name": "ipython",
    "version": 3
   },
   "file_extension": ".py",
   "mimetype": "text/x-python",
   "name": "python",
   "nbconvert_exporter": "python",
   "pygments_lexer": "ipython3",
   "version": "3.10.9"
  }
 },
 "nbformat": 4,
 "nbformat_minor": 2
}

{
 "cells": [
  {
   "cell_type": "markdown",
   "metadata": {},
   "source": [
    "# Marketing Users\n",
    "field needed:\n",
    "- id\n",
    "\n",
    "# Features\n",
    "field needed:\n",
    "- id\n",
    "- datetime\n",
    "- feature_value\n",
    "---"
   ]
  },
  {
   "cell_type": "markdown",
   "metadata": {},
   "source": [
    "# Demo\n",
    "## Users"
   ]
  },
  {
   "cell_type": "code",
   "execution_count": null,
   "metadata": {},
   "outputs": [],
   "source": [
    "from config_etc import MarketingDurationConfig\n",
    "spark = None"
   ]
  },
  {
   "cell_type": "code",
   "execution_count": null,
   "metadata": {},
   "outputs": [],
   "source": [
    "## Users\n",
    "sql = f\"\"\"\n",
    "select distinct ccif_no\n",
    "from xxxxx\n",
    "where ds = '{MarketingDurationConfig.start_ds}'\n",
    "and ...\n",
    "\"\"\"\n",
    "\n",
    "marketing_users = spark.sql(sql)\n",
    "marketing_users.write.mode(\"overwrite\").saveAsTable(\"xxxx.xxxxx\")\n",
    "\n",
    "marketing_users.show(5)"
   ]
  },
  {
   "cell_type": "code",
   "execution_count": null,
   "metadata": {},
   "outputs": [],
   "source": [
    "marketing_users.count()"
   ]
  },
  {
   "cell_type": "markdown",
   "metadata": {},
   "source": [
    "## Features\n",
    "\n",
    "feature_01 demo"
   ]
  },
  {
   "cell_type": "code",
   "execution_count": null,
   "metadata": {},
   "outputs": [],
   "source": [
    "sql = f\"\"\"\n",
    "\n",
    "select distinct ccif_no, create_time, feature_field\n",
    "from xxxx.xxxxx\n",
    "where create_time >= '{MarketingDurationConfig.start_date}'\n",
    "and create_time <= '{MarketingDurationConfig.end_date}'\n",
    "and ....\n",
    "\"\"\"\n",
    "\n",
    "feat = spark.sql(sql)\n",
    "feat.write.mode(\"overwrite\").saveAsTable(\"xxxx.xxxxxxx\")\n",
    "\n",
    "feat.show(5)"
   ]
  },
  {
   "cell_type": "code",
   "execution_count": null,
   "metadata": {},
   "outputs": [],
   "source": [
    "feat.count()"
   ]
  },
  {
   "cell_type": "markdown",
   "metadata": {},
   "source": []
  }
 ],
 "metadata": {
  "kernelspec": {
   "display_name": "calibrate",
   "language": "python",
   "name": "python3"
  },
  "language_info": {
   "name": "python",
   "version": "3.13.0"
  }
 },
 "nbformat": 4,
 "nbformat_minor": 2
}
